{
 "cells": [
  {
   "cell_type": "markdown",
   "id": "e1f02467-6010-4c92-aa48-64ac2cad422f",
   "metadata": {},
   "source": [
    "# DATA TYPES"
   ]
  },
  {
   "cell_type": "code",
   "execution_count": 1,
   "id": "248b3c7b-1cd6-4d69-a046-cb2559a07b38",
   "metadata": {},
   "outputs": [
    {
     "data": {
      "text/plain": [
       "int"
      ]
     },
     "execution_count": 1,
     "metadata": {},
     "output_type": "execute_result"
    }
   ],
   "source": [
    "type(1) #gives result int"
   ]
  },
  {
   "cell_type": "code",
   "execution_count": 2,
   "id": "201d3288-5797-45ca-b9d7-568522e1f366",
   "metadata": {},
   "outputs": [
    {
     "data": {
      "text/plain": [
       "float"
      ]
     },
     "execution_count": 2,
     "metadata": {},
     "output_type": "execute_result"
    }
   ],
   "source": [
    "type(2.1) #gives result float\n"
   ]
  },
  {
   "cell_type": "code",
   "execution_count": 3,
   "id": "badd7f0d-3ea6-4960-86b2-2e33c240b22a",
   "metadata": {},
   "outputs": [
    {
     "data": {
      "text/plain": [
       "bool"
      ]
     },
     "execution_count": 3,
     "metadata": {},
     "output_type": "execute_result"
    }
   ],
   "source": [
    "type(True) #gives result bool\n"
   ]
  },
  {
   "cell_type": "code",
   "execution_count": 5,
   "id": "9fea1426-e081-4e5c-800a-8f029276cef4",
   "metadata": {},
   "outputs": [
    {
     "data": {
      "text/plain": [
       "str"
      ]
     },
     "execution_count": 5,
     "metadata": {},
     "output_type": "execute_result"
    }
   ],
   "source": [
    "type(\"Hello world\") #gives result str"
   ]
  },
  {
   "cell_type": "code",
   "execution_count": 6,
   "id": "676aa526-e11d-4184-943e-eb5ae463b25d",
   "metadata": {},
   "outputs": [
    {
     "data": {
      "text/plain": [
       "2.0"
      ]
     },
     "execution_count": 6,
     "metadata": {},
     "output_type": "execute_result"
    }
   ],
   "source": [
    "float(2) #converts the int value to a float value"
   ]
  },
  {
   "cell_type": "code",
   "execution_count": 7,
   "id": "3b4bc779-471d-471a-885a-0b79430e791d",
   "metadata": {},
   "outputs": [
    {
     "data": {
      "text/plain": [
       "2"
      ]
     },
     "execution_count": 7,
     "metadata": {},
     "output_type": "execute_result"
    }
   ],
   "source": [
    "int(2.1) #converts the float value to an int value (will lead to loss of data)\n"
   ]
  }
 ],
 "metadata": {
  "kernelspec": {
   "display_name": "Python 3 (ipykernel)",
   "language": "python",
   "name": "python3"
  },
  "language_info": {
   "codemirror_mode": {
    "name": "ipython",
    "version": 3
   },
   "file_extension": ".py",
   "mimetype": "text/x-python",
   "name": "python",
   "nbconvert_exporter": "python",
   "pygments_lexer": "ipython3",
   "version": "3.13.5"
  }
 },
 "nbformat": 4,
 "nbformat_minor": 5
}

{
 "cells": [
  {
   "cell_type": "markdown",
   "id": "99cf7891-e9be-49a4-a859-4e3b7683daf3",
   "metadata": {},
   "source": [
    "# First code"
   ]
  },
  {
   "cell_type": "code",
   "execution_count": 2,
   "id": "313271e2-25f5-4734-869d-9415aa6b5b5a",
   "metadata": {},
   "outputs": [
    {
     "name": "stdout",
     "output_type": "stream",
     "text": [
      "Hello github\n"
     ]
    }
   ],
   "source": [
    "print(\"Hello github\") # this command prints the output\n"
   ]
  }
 ],
 "metadata": {
  "kernelspec": {
   "display_name": "Python 3 (ipykernel)",
   "language": "python",
   "name": "python3"
  },
  "language_info": {
   "codemirror_mode": {
    "name": "ipython",
    "version": 3
   },
   "file_extension": ".py",
   "mimetype": "text/x-python",
   "name": "python",
   "nbconvert_exporter": "python",
   "pygments_lexer": "ipython3",
   "version": "3.13.5"
  }
 },
 "nbformat": 4,
 "nbformat_minor": 5
}

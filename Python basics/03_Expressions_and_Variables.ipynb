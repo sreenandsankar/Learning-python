{
 "cells": [
  {
   "cell_type": "markdown",
   "id": "d2daeab1-39c1-48d5-9cf0-c8fea4f3a9a9",
   "metadata": {},
   "source": [
    "# Expression and Variables"
   ]
  },
  {
   "cell_type": "markdown",
   "id": "76e2b1b3-ad62-4624-aa7b-c597506297db",
   "metadata": {},
   "source": [
    "# Expressions"
   ]
  },
  {
   "cell_type": "code",
   "execution_count": 1,
   "id": "3bb67787-eb1b-4104-b471-760af0d1aff8",
   "metadata": {},
   "outputs": [
    {
     "data": {
      "text/plain": [
       "41"
      ]
     },
     "execution_count": 1,
     "metadata": {},
     "output_type": "execute_result"
    }
   ],
   "source": [
    "10 + 20 + 11 #Addition operation expression"
   ]
  },
  {
   "cell_type": "code",
   "execution_count": 2,
   "id": "fe73001b-31d5-416f-be09-0d59a0e6822f",
   "metadata": {},
   "outputs": [
    {
     "data": {
      "text/plain": [
       "-11"
      ]
     },
     "execution_count": 2,
     "metadata": {},
     "output_type": "execute_result"
    }
   ],
   "source": [
    "10-20-1 #Subtraction operation expression"
   ]
  },
  {
   "cell_type": "code",
   "execution_count": 3,
   "id": "2960a23f-43be-48f9-ac6c-ffcdbbac6e88",
   "metadata": {},
   "outputs": [
    {
     "data": {
      "text/plain": [
       "24"
      ]
     },
     "execution_count": 3,
     "metadata": {},
     "output_type": "execute_result"
    }
   ],
   "source": [
    "12 * 2 * 1 #Multiplication operation expression"
   ]
  },
  {
   "cell_type": "code",
   "execution_count": 4,
   "id": "62ed29f9-cae0-4b6f-9d64-a8bdb0885f3e",
   "metadata": {},
   "outputs": [
    {
     "data": {
      "text/plain": [
       "6.0"
      ]
     },
     "execution_count": 4,
     "metadata": {},
     "output_type": "execute_result"
    }
   ],
   "source": [
    "12/2 #Diviision operation expression"
   ]
  },
  {
   "cell_type": "code",
   "execution_count": 5,
   "id": "6ba7521f-f5c7-43e0-88fd-4af5d5e84f79",
   "metadata": {},
   "outputs": [
    {
     "data": {
      "text/plain": [
       "4"
      ]
     },
     "execution_count": 5,
     "metadata": {},
     "output_type": "execute_result"
    }
   ],
   "source": [
    "12//3 #Integer division operation expression"
   ]
  },
  {
   "cell_type": "code",
   "execution_count": 6,
   "id": "2ce9cbce-9169-4df3-98a7-aca0c94941c1",
   "metadata": {},
   "outputs": [
    {
     "data": {
      "text/plain": [
       "54"
      ]
     },
     "execution_count": 6,
     "metadata": {},
     "output_type": "execute_result"
    }
   ],
   "source": [
    "50 + 2 * 2 #Mathematical operation expression"
   ]
  },
  {
   "cell_type": "markdown",
   "id": "8594d675-3c1a-4b63-823c-f49d1b9cb0a4",
   "metadata": {},
   "source": [
    "# Variables"
   ]
  },
  {
   "cell_type": "code",
   "execution_count": 8,
   "id": "3ae3001f-c3a1-4e0c-8930-70673c9358e4",
   "metadata": {},
   "outputs": [],
   "source": [
    "x=100+60 #Stores value into variables"
   ]
  },
  {
   "cell_type": "code",
   "execution_count": 9,
   "id": "e50bcd2c-088d-491a-ac0a-760db3a5b6e8",
   "metadata": {},
   "outputs": [
    {
     "data": {
      "text/plain": [
       "160"
      ]
     },
     "execution_count": 9,
     "metadata": {},
     "output_type": "execute_result"
    }
   ],
   "source": [
    "x #Prints values of x"
   ]
  },
  {
   "cell_type": "code",
   "execution_count": 10,
   "id": "ceb28df5-d3db-41f5-b317-052c2def15e0",
   "metadata": {},
   "outputs": [],
   "source": [
    "y= x/2 #Creates another variable to store result of the operatio on x"
   ]
  },
  {
   "cell_type": "code",
   "execution_count": 11,
   "id": "6a646827-2a9f-4c62-b37e-62baf8a53320",
   "metadata": {},
   "outputs": [
    {
     "data": {
      "text/plain": [
       "80.0"
      ]
     },
     "execution_count": 11,
     "metadata": {},
     "output_type": "execute_result"
    }
   ],
   "source": [
    "y"
   ]
  },
  {
   "cell_type": "code",
   "execution_count": 12,
   "id": "52b906d3-8169-42f9-aea4-66f548394c8e",
   "metadata": {},
   "outputs": [],
   "source": [
    "x=x+10 #Overwrites the value of our variable"
   ]
  },
  {
   "cell_type": "code",
   "execution_count": 13,
   "id": "76af5d71-fbe2-4ccf-9452-c3d4c92bab0d",
   "metadata": {},
   "outputs": [
    {
     "data": {
      "text/plain": [
       "170"
      ]
     },
     "execution_count": 13,
     "metadata": {},
     "output_type": "execute_result"
    }
   ],
   "source": [
    "x"
   ]
  },
  {
   "cell_type": "markdown",
   "id": "66ef418d-a380-4cbf-b9b7-4e98eaa50dce",
   "metadata": {},
   "source": [
    "## Meaningful apllication of variables"
   ]
  },
  {
   "cell_type": "code",
   "execution_count": 15,
   "id": "19b67dd0-08f8-4622-8169-75b17796eb77",
   "metadata": {},
   "outputs": [],
   "source": [
    "total_mins = 45 + 30+ 23 + 50 #adds minutes\n"
   ]
  },
  {
   "cell_type": "code",
   "execution_count": 16,
   "id": "a3729ba4-6191-418b-94ef-f3e30c733e38",
   "metadata": {},
   "outputs": [
    {
     "data": {
      "text/plain": [
       "148"
      ]
     },
     "execution_count": 16,
     "metadata": {},
     "output_type": "execute_result"
    }
   ],
   "source": [
    "total_mins"
   ]
  },
  {
   "cell_type": "code",
   "execution_count": 17,
   "id": "c9cff40e-a088-4a88-b333-895fff266c49",
   "metadata": {},
   "outputs": [],
   "source": [
    "total_hrs = total_mins/60 #converts the minutes into hours"
   ]
  },
  {
   "cell_type": "code",
   "execution_count": 18,
   "id": "5c991eb2-110a-46a3-b4c2-5025c769b155",
   "metadata": {},
   "outputs": [
    {
     "data": {
      "text/plain": [
       "2.466666666666667"
      ]
     },
     "execution_count": 18,
     "metadata": {},
     "output_type": "execute_result"
    }
   ],
   "source": [
    "total_hrs"
   ]
  }
 ],
 "metadata": {
  "kernelspec": {
   "display_name": "Python 3 (ipykernel)",
   "language": "python",
   "name": "python3"
  },
  "language_info": {
   "codemirror_mode": {
    "name": "ipython",
    "version": 3
   },
   "file_extension": ".py",
   "mimetype": "text/x-python",
   "name": "python",
   "nbconvert_exporter": "python",
   "pygments_lexer": "ipython3",
   "version": "3.13.5"
  }
 },
 "nbformat": 4,
 "nbformat_minor": 5
}
